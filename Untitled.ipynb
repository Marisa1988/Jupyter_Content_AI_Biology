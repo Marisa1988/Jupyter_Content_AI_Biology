{
 "cells": [
  {
   "cell_type": "code",
   "execution_count": null,
   "id": "b6a9246f-c733-4b95-ac17-fa56b4d75db5",
   "metadata": {},
   "outputs": [
    {
     "name": "stdout",
     "output_type": "stream",
     "text": [
      "Defaulting to user installation because normal site-packages is not writeable\n",
      "Collecting pandas\n",
      "  Downloading pandas-2.2.3-cp312-cp312-manylinux_2_17_x86_64.manylinux2014_x86_64.whl.metadata (89 kB)\n",
      "Collecting numpy>=1.26.0 (from pandas)\n",
      "  Downloading numpy-2.2.4-cp312-cp312-manylinux_2_17_x86_64.manylinux2014_x86_64.whl.metadata (62 kB)\n",
      "Requirement already satisfied: python-dateutil>=2.8.2 in /cm/shared/apps/jupyter/4.3.4/lib/python3.12/site-packages (from pandas) (2.9.0.post0)\n",
      "Requirement already satisfied: pytz>=2020.1 in /cm/shared/apps/jupyter/4.3.4/lib/python3.12/site-packages (from pandas) (2024.2)\n",
      "Collecting tzdata>=2022.7 (from pandas)\n",
      "  Downloading tzdata-2025.2-py2.py3-none-any.whl.metadata (1.4 kB)\n",
      "Requirement already satisfied: six>=1.5 in /cm/shared/apps/jupyter/4.3.4/lib/python3.12/site-packages (from python-dateutil>=2.8.2->pandas) (1.17.0)\n",
      "Downloading pandas-2.2.3-cp312-cp312-manylinux_2_17_x86_64.manylinux2014_x86_64.whl (12.7 MB)\n",
      "\u001b[2K   \u001b[90m━━━━━━━━━━━━━━━━━━━━━━━━━━━━━━━━━━━━━━━━\u001b[0m \u001b[32m12.7/12.7 MB\u001b[0m \u001b[31m152.5 MB/s\u001b[0m eta \u001b[36m0:00:00\u001b[0m\n",
      "\u001b[?25hDownloading numpy-2.2.4-cp312-cp312-manylinux_2_17_x86_64.manylinux2014_x86_64.whl (16.1 MB)\n",
      "\u001b[2K   \u001b[90m━━━━━━━━━━━━━━━━━━━━━━━━━━━━━━━━━━━━━━━━\u001b[0m \u001b[32m16.1/16.1 MB\u001b[0m \u001b[31m176.8 MB/s\u001b[0m eta \u001b[36m0:00:00\u001b[0m\n",
      "\u001b[?25hDownloading tzdata-2025.2-py2.py3-none-any.whl (347 kB)\n",
      "Installing collected packages: tzdata, numpy, pandas\n"
     ]
    }
   ],
   "source": [
    "pip install pandas"
   ]
  },
  {
   "cell_type": "code",
   "execution_count": null,
   "id": "d4eb8372-61e6-452a-9c1f-159162ca5650",
   "metadata": {},
   "outputs": [],
   "source": [
    "import pandas as pd\n",
    "from datetime import datetime"
   ]
  },
  {
   "cell_type": "code",
   "execution_count": null,
   "id": "bbe14487-85f5-43ae-9dc1-b8bcf53ee35d",
   "metadata": {},
   "outputs": [],
   "source": []
  },
  {
   "cell_type": "code",
   "execution_count": 1,
   "id": "dfa0c40d-683d-478c-a900-c61a323c6472",
   "metadata": {},
   "outputs": [
    {
     "ename": "SyntaxError",
     "evalue": "invalid non-printable character U+00A0 (3485095124.py, line 6)",
     "output_type": "error",
     "traceback": [
      "\u001b[0;36m  Cell \u001b[0;32mIn[1], line 6\u001b[0;36m\u001b[0m\n\u001b[0;31m    'product_code': ['P123', 'P124', 'P125'],\u001b[0m\n\u001b[0m    ^\u001b[0m\n\u001b[0;31mSyntaxError\u001b[0m\u001b[0;31m:\u001b[0m invalid non-printable character U+00A0\n"
     ]
    }
   ],
   "source": [
    "\n",
    "\n",
    "\n",
    "# Online Sales Data\n",
    "online_sales = pd.DataFrame({\n",
    "    'product_code': ['P123', 'P124', 'P125'],\n",
    "    'sale_date': ['2024-01-01', '2024-01-02', '2024-01-03'],\n",
    "    'units_sold': [100, 150, 200],\n",
    "    'total_sale_value': [1000, 1500, 2000]\n",
    "})\n",
    "\n",
    "# Retail Sales Data\n",
    "retail_sales = pd.DataFrame({\n",
    "    'product_code': [123, 124, 125],\n",
    "    'sale_date': ['01/01/2024', '01/02/2024', '01/03/2024'],\n",
    "    'units_sold': [120, 130, 210],\n",
    "    'total_sale_value': [1200, 1300, 2100]\n",
    "})\n",
    "\n",
    "# Harmonize column names\n",
    "retail_sales['sale_date'] = pd.to_datetime(retail_sales['sale_date'], format='%m/%d/%Y')\n",
    "online_sales['product_code'] = online_sales['product_code'].str.replace('P', '').astype(int)\n",
    "online_sales['sale_date'] = pd.to_datetime(online_sales['sale_date'])\n",
    "\n",
    "# Combine the datasets\n",
    "combined_sales = pd.concat([online_sales, retail_sales], ignore_index=True)\n",
    "\n",
    "# Perform some basic quality checks\n",
    "combined_sales_check = combined_sales.isnull().sum().to_frame(name='Missing').T\n",
    "\n",
    "# Display the checks\n",
    "print(combined_sales_check)\n"
   ]
  },
  {
   "cell_type": "code",
   "execution_count": null,
   "id": "1f9425a3-50e2-4b3d-8d9e-b7fc8ff7e8b3",
   "metadata": {},
   "outputs": [],
   "source": []
  }
 ],
 "metadata": {
  "kernelspec": {
   "display_name": "Python 3 (ipykernel)",
   "language": "python",
   "name": "python3"
  },
  "language_info": {
   "codemirror_mode": {
    "name": "ipython",
    "version": 3
   },
   "file_extension": ".py",
   "mimetype": "text/x-python",
   "name": "python",
   "nbconvert_exporter": "python",
   "pygments_lexer": "ipython3",
   "version": "3.12.2"
  }
 },
 "nbformat": 4,
 "nbformat_minor": 5
}
